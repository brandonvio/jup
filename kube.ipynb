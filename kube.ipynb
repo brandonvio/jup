{
 "cells": [
  {
   "cell_type": "code",
   "execution_count": 6,
   "metadata": {},
   "outputs": [],
   "source": [
    "from kubernetes import client, config, watch"
   ]
  },
  {
   "cell_type": "code",
   "execution_count": 13,
   "metadata": {},
   "outputs": [
    {
     "name": "stdout",
     "output_type": "stream",
     "text": [
      "172.17.0.3\tdefault\thello-minikube\n",
      "172.17.0.2\tkube-system\tcoredns-64897985d-swkgw\n",
      "10.0.0.4\tkube-system\tetcd-dev-machine\n",
      "10.0.0.4\tkube-system\tkube-apiserver-dev-machine\n",
      "10.0.0.4\tkube-system\tkube-controller-manager-dev-machine\n",
      "10.0.0.4\tkube-system\tkube-proxy-8m88x\n",
      "10.0.0.4\tkube-system\tkube-scheduler-dev-machine\n",
      "10.0.0.4\tkube-system\tstorage-provisioner\n",
      "172.17.0.4\tkubernetes-dashboard\tdashboard-metrics-scraper-58549894f-qplmj\n",
      "172.17.0.5\tkubernetes-dashboard\tkubernetes-dashboard-ccd587f44-dsk2k\n"
     ]
    }
   ],
   "source": [
    "config.load_kube_config()\n",
    "v1 = client.CoreV1Api()\n",
    "ret = v1.list_pod_for_all_namespaces(watch=False)\n",
    "for i in ret.items:\n",
    "    print(\"%s\\t%s\\t%s\" % (i.status.pod_ip, i.metadata.namespace, i.metadata.name))"
   ]
  },
  {
   "cell_type": "code",
   "execution_count": 14,
   "metadata": {},
   "outputs": [],
   "source": [
    "def get_events():\n",
    "    count = 10\n",
    "    w = watch.Watch()\n",
    "    for event in w.stream(v1.list_namespace, _request_timeout=60):\n",
    "        print(\"Event: %s %s\" % (event['type'], event['object'].metadata.name))\n",
    "        count -= 1\n",
    "        if not count:\n",
    "            w.stop()\n",
    "\n",
    "    print(\"Ended.\")"
   ]
  },
  {
   "cell_type": "code",
   "execution_count": 15,
   "metadata": {},
   "outputs": [],
   "source": [
    "# v1.list_pod_for_all_namespaces()"
   ]
  },
  {
   "cell_type": "code",
   "execution_count": null,
   "metadata": {},
   "outputs": [],
   "source": []
  },
  {
   "cell_type": "code",
   "execution_count": null,
   "metadata": {},
   "outputs": [],
   "source": []
  }
 ],
 "metadata": {
  "kernelspec": {
   "display_name": "Python 3",
   "language": "python",
   "name": "python3"
  },
  "language_info": {
   "codemirror_mode": {
    "name": "ipython",
    "version": 3
   },
   "file_extension": ".py",
   "mimetype": "text/x-python",
   "name": "python",
   "nbconvert_exporter": "python",
   "pygments_lexer": "ipython3",
   "version": "3.7.6"
  }
 },
 "nbformat": 4,
 "nbformat_minor": 4
}
